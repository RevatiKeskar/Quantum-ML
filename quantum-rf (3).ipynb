{
 "cells": [
  {
   "cell_type": "code",
   "execution_count": 1,
   "id": "c31f6d86",
   "metadata": {
    "_cell_guid": "b1076dfc-b9ad-4769-8c92-a6c4dae69d19",
    "_uuid": "8f2839f25d086af736a60e9eeb907d3b93b6e0e5",
    "execution": {
     "iopub.execute_input": "2025-04-02T16:11:50.945058Z",
     "iopub.status.busy": "2025-04-02T16:11:50.944694Z",
     "iopub.status.idle": "2025-04-02T16:11:54.521221Z",
     "shell.execute_reply": "2025-04-02T16:11:54.520127Z"
    },
    "papermill": {
     "duration": 3.582799,
     "end_time": "2025-04-02T16:11:54.523200",
     "exception": false,
     "start_time": "2025-04-02T16:11:50.940401",
     "status": "completed"
    },
    "tags": []
   },
   "outputs": [],
   "source": [
    "import numpy as np\n",
    "import pandas as pd\n",
    "from sklearn.model_selection import train_test_split\n",
    "from sklearn.preprocessing import StandardScaler\n",
    "from sklearn.decomposition import PCA,KernelPCA\n",
    "from sklearn.ensemble import RandomForestClassifier\n",
    "from sklearn.metrics import classification_report, confusion_matrix, accuracy_score\n",
    "import matplotlib.pyplot as plt\n",
    "import seaborn as sns\n",
    "\n",
    "# Load dataset\n",
    "data = pd.read_csv(\"/kaggle/input/breast-cancer-dataset/breast-cancer.csv\")\n",
    "X = data.drop(columns=['diagnosis'])  # Features\n",
    "y = data['diagnosis']  # Target (M = malignant, B = benign)\n",
    "\n",
    "# Convert labels to binary (0 for benign, 1 for malignant)\n",
    "y = y.map({'B': 0, 'M': 1})\n",
    "\n",
    "# Split into train and test sets\n",
    "X_train, X_test, y_train, y_test = train_test_split(X, y, test_size=0.2, random_state=42)"
   ]
  },
  {
   "cell_type": "code",
   "execution_count": 2,
   "id": "74e1b8f1",
   "metadata": {
    "execution": {
     "iopub.execute_input": "2025-04-02T16:11:54.530208Z",
     "iopub.status.busy": "2025-04-02T16:11:54.529829Z",
     "iopub.status.idle": "2025-04-02T16:11:54.560919Z",
     "shell.execute_reply": "2025-04-02T16:11:54.559779Z"
    },
    "papermill": {
     "duration": 0.036332,
     "end_time": "2025-04-02T16:11:54.562760",
     "exception": false,
     "start_time": "2025-04-02T16:11:54.526428",
     "status": "completed"
    },
    "tags": []
   },
   "outputs": [],
   "source": [
    "# Standardize features\n",
    "scaler = StandardScaler()\n",
    "X_train_scaled = scaler.fit_transform(X_train)\n",
    "X_test_scaled = scaler.transform(X_test)\n",
    "\n",
    "#Robust Quantum Kernel Implementation\n",
    "def quantum_kernel(X, Y=None, gamma=0.1):\n",
    "    \"\"\"\n",
    "    Stable quantum-inspired kernel that handles:\n",
    "    - Both fit (X,Y) and transform (X only) cases\n",
    "    - 1D and 2D input arrays\n",
    "    - Proper broadcasting\n",
    "    \"\"\"\n",
    "    if Y is None:\n",
    "        Y = X\n",
    "    \n",
    "    # Ensure 2D arrays\n",
    "    X = np.atleast_2d(X)\n",
    "    Y = np.atleast_2d(Y)\n",
    "    \n",
    "    # Efficient RBF kernel computation\n",
    "    X_norm = np.sum(X**2, axis=1)[:, np.newaxis]\n",
    "    Y_norm = np.sum(Y**2, axis=1)[np.newaxis, :]\n",
    "    \n",
    "    K = X_norm + Y_norm - 2 * np.dot(X, Y.T)\n",
    "    return np.exp(-gamma * K)\n",
    " \n",
    "# Apply PCA (reduce to 5 components for quantum-inspired approach)\n",
    "#pca = PCA(n_components=5)\n",
    "#X_train_pca = pca.fit_transform(X_train_scaled)\n",
    "#X_test_pca = pca.transform(X_test_scaled)"
   ]
  },
  {
   "cell_type": "code",
   "execution_count": 3,
   "id": "955a3f7c",
   "metadata": {
    "execution": {
     "iopub.execute_input": "2025-04-02T16:11:54.569477Z",
     "iopub.status.busy": "2025-04-02T16:11:54.569103Z",
     "iopub.status.idle": "2025-04-02T16:12:09.496825Z",
     "shell.execute_reply": "2025-04-02T16:12:09.495845Z"
    },
    "papermill": {
     "duration": 14.933105,
     "end_time": "2025-04-02T16:12:09.498702",
     "exception": false,
     "start_time": "2025-04-02T16:11:54.565597",
     "status": "completed"
    },
    "tags": []
   },
   "outputs": [
    {
     "name": "stdout",
     "output_type": "stream",
     "text": [
      "Fitting Quantum Kernel PCA...\n",
      "Transforming data...\n"
     ]
    }
   ],
   "source": [
    "#Initialize and fit KernelPCA\n",
    "kpca = KernelPCA(\n",
    "    kernel=quantum_kernel,\n",
    "    n_components=min(10, X_train_scaled.shape[1]),  # Ensure valid component count\n",
    "    fit_inverse_transform=True,\n",
    "    random_state=42\n",
    ")\n",
    "#Safe transformation\n",
    "try:\n",
    "    print(\"Fitting Quantum Kernel PCA...\")\n",
    "    kpca.fit(X_train_scaled)\n",
    "    \n",
    "    print(\"Transforming data...\")\n",
    "    X_train_kpca = kpca.transform(X_train_scaled)\n",
    "    X_test_kpca = kpca.transform(X_test_scaled)\n",
    "except Exception as e:\n",
    "    print(f\"Transformation failed: {str(e)}\")\n",
    "    # Fallback to classical PCA if quantum fails\n",
    "    from sklearn.decomposition import PCA\n",
    "    pca = PCA(n_components=10)\n",
    "    X_train_kpca = pca.fit_transform(X_train_scaled)\n",
    "    X_test_kpca = pca.transform(X_test_scaled)\n"
   ]
  },
  {
   "cell_type": "code",
   "execution_count": 4,
   "id": "4b5846e6",
   "metadata": {
    "execution": {
     "iopub.execute_input": "2025-04-02T16:12:09.505725Z",
     "iopub.status.busy": "2025-04-02T16:12:09.505338Z",
     "iopub.status.idle": "2025-04-02T16:12:09.737305Z",
     "shell.execute_reply": "2025-04-02T16:12:09.736287Z"
    },
    "papermill": {
     "duration": 0.237346,
     "end_time": "2025-04-02T16:12:09.739007",
     "exception": false,
     "start_time": "2025-04-02T16:12:09.501661",
     "status": "completed"
    },
    "tags": []
   },
   "outputs": [
    {
     "data": {
      "text/html": [
       "<style>#sk-container-id-1 {color: black;background-color: white;}#sk-container-id-1 pre{padding: 0;}#sk-container-id-1 div.sk-toggleable {background-color: white;}#sk-container-id-1 label.sk-toggleable__label {cursor: pointer;display: block;width: 100%;margin-bottom: 0;padding: 0.3em;box-sizing: border-box;text-align: center;}#sk-container-id-1 label.sk-toggleable__label-arrow:before {content: \"▸\";float: left;margin-right: 0.25em;color: #696969;}#sk-container-id-1 label.sk-toggleable__label-arrow:hover:before {color: black;}#sk-container-id-1 div.sk-estimator:hover label.sk-toggleable__label-arrow:before {color: black;}#sk-container-id-1 div.sk-toggleable__content {max-height: 0;max-width: 0;overflow: hidden;text-align: left;background-color: #f0f8ff;}#sk-container-id-1 div.sk-toggleable__content pre {margin: 0.2em;color: black;border-radius: 0.25em;background-color: #f0f8ff;}#sk-container-id-1 input.sk-toggleable__control:checked~div.sk-toggleable__content {max-height: 200px;max-width: 100%;overflow: auto;}#sk-container-id-1 input.sk-toggleable__control:checked~label.sk-toggleable__label-arrow:before {content: \"▾\";}#sk-container-id-1 div.sk-estimator input.sk-toggleable__control:checked~label.sk-toggleable__label {background-color: #d4ebff;}#sk-container-id-1 div.sk-label input.sk-toggleable__control:checked~label.sk-toggleable__label {background-color: #d4ebff;}#sk-container-id-1 input.sk-hidden--visually {border: 0;clip: rect(1px 1px 1px 1px);clip: rect(1px, 1px, 1px, 1px);height: 1px;margin: -1px;overflow: hidden;padding: 0;position: absolute;width: 1px;}#sk-container-id-1 div.sk-estimator {font-family: monospace;background-color: #f0f8ff;border: 1px dotted black;border-radius: 0.25em;box-sizing: border-box;margin-bottom: 0.5em;}#sk-container-id-1 div.sk-estimator:hover {background-color: #d4ebff;}#sk-container-id-1 div.sk-parallel-item::after {content: \"\";width: 100%;border-bottom: 1px solid gray;flex-grow: 1;}#sk-container-id-1 div.sk-label:hover label.sk-toggleable__label {background-color: #d4ebff;}#sk-container-id-1 div.sk-serial::before {content: \"\";position: absolute;border-left: 1px solid gray;box-sizing: border-box;top: 0;bottom: 0;left: 50%;z-index: 0;}#sk-container-id-1 div.sk-serial {display: flex;flex-direction: column;align-items: center;background-color: white;padding-right: 0.2em;padding-left: 0.2em;position: relative;}#sk-container-id-1 div.sk-item {position: relative;z-index: 1;}#sk-container-id-1 div.sk-parallel {display: flex;align-items: stretch;justify-content: center;background-color: white;position: relative;}#sk-container-id-1 div.sk-item::before, #sk-container-id-1 div.sk-parallel-item::before {content: \"\";position: absolute;border-left: 1px solid gray;box-sizing: border-box;top: 0;bottom: 0;left: 50%;z-index: -1;}#sk-container-id-1 div.sk-parallel-item {display: flex;flex-direction: column;z-index: 1;position: relative;background-color: white;}#sk-container-id-1 div.sk-parallel-item:first-child::after {align-self: flex-end;width: 50%;}#sk-container-id-1 div.sk-parallel-item:last-child::after {align-self: flex-start;width: 50%;}#sk-container-id-1 div.sk-parallel-item:only-child::after {width: 0;}#sk-container-id-1 div.sk-dashed-wrapped {border: 1px dashed gray;margin: 0 0.4em 0.5em 0.4em;box-sizing: border-box;padding-bottom: 0.4em;background-color: white;}#sk-container-id-1 div.sk-label label {font-family: monospace;font-weight: bold;display: inline-block;line-height: 1.2em;}#sk-container-id-1 div.sk-label-container {text-align: center;}#sk-container-id-1 div.sk-container {/* jupyter's `normalize.less` sets `[hidden] { display: none; }` but bootstrap.min.css set `[hidden] { display: none !important; }` so we also need the `!important` here to be able to override the default hidden behavior on the sphinx rendered scikit-learn.org. See: https://github.com/scikit-learn/scikit-learn/issues/21755 */display: inline-block !important;position: relative;}#sk-container-id-1 div.sk-text-repr-fallback {display: none;}</style><div id=\"sk-container-id-1\" class=\"sk-top-container\"><div class=\"sk-text-repr-fallback\"><pre>RandomForestClassifier(max_depth=8, min_samples_split=5, random_state=42)</pre><b>In a Jupyter environment, please rerun this cell to show the HTML representation or trust the notebook. <br />On GitHub, the HTML representation is unable to render, please try loading this page with nbviewer.org.</b></div><div class=\"sk-container\" hidden><div class=\"sk-item\"><div class=\"sk-estimator sk-toggleable\"><input class=\"sk-toggleable__control sk-hidden--visually\" id=\"sk-estimator-id-1\" type=\"checkbox\" checked><label for=\"sk-estimator-id-1\" class=\"sk-toggleable__label sk-toggleable__label-arrow\">RandomForestClassifier</label><div class=\"sk-toggleable__content\"><pre>RandomForestClassifier(max_depth=8, min_samples_split=5, random_state=42)</pre></div></div></div></div></div>"
      ],
      "text/plain": [
       "RandomForestClassifier(max_depth=8, min_samples_split=5, random_state=42)"
      ]
     },
     "execution_count": 4,
     "metadata": {},
     "output_type": "execute_result"
    }
   ],
   "source": [
    "#Train Quantum-Inspired RF\n",
    "qrf = RandomForestClassifier(\n",
    "    n_estimators=100,\n",
    "    max_depth=8,\n",
    "    min_samples_split=5,\n",
    "    random_state=42\n",
    ")\n",
    "qrf.fit(X_train_kpca, y_train)"
   ]
  },
  {
   "cell_type": "code",
   "execution_count": 5,
   "id": "1688d8b7",
   "metadata": {
    "execution": {
     "iopub.execute_input": "2025-04-02T16:12:09.746385Z",
     "iopub.status.busy": "2025-04-02T16:12:09.745986Z",
     "iopub.status.idle": "2025-04-02T16:12:09.994433Z",
     "shell.execute_reply": "2025-04-02T16:12:09.993362Z"
    },
    "papermill": {
     "duration": 0.253772,
     "end_time": "2025-04-02T16:12:09.995969",
     "exception": false,
     "start_time": "2025-04-02T16:12:09.742197",
     "status": "completed"
    },
    "tags": []
   },
   "outputs": [
    {
     "data": {
      "text/html": [
       "<style>#sk-container-id-2 {color: black;background-color: white;}#sk-container-id-2 pre{padding: 0;}#sk-container-id-2 div.sk-toggleable {background-color: white;}#sk-container-id-2 label.sk-toggleable__label {cursor: pointer;display: block;width: 100%;margin-bottom: 0;padding: 0.3em;box-sizing: border-box;text-align: center;}#sk-container-id-2 label.sk-toggleable__label-arrow:before {content: \"▸\";float: left;margin-right: 0.25em;color: #696969;}#sk-container-id-2 label.sk-toggleable__label-arrow:hover:before {color: black;}#sk-container-id-2 div.sk-estimator:hover label.sk-toggleable__label-arrow:before {color: black;}#sk-container-id-2 div.sk-toggleable__content {max-height: 0;max-width: 0;overflow: hidden;text-align: left;background-color: #f0f8ff;}#sk-container-id-2 div.sk-toggleable__content pre {margin: 0.2em;color: black;border-radius: 0.25em;background-color: #f0f8ff;}#sk-container-id-2 input.sk-toggleable__control:checked~div.sk-toggleable__content {max-height: 200px;max-width: 100%;overflow: auto;}#sk-container-id-2 input.sk-toggleable__control:checked~label.sk-toggleable__label-arrow:before {content: \"▾\";}#sk-container-id-2 div.sk-estimator input.sk-toggleable__control:checked~label.sk-toggleable__label {background-color: #d4ebff;}#sk-container-id-2 div.sk-label input.sk-toggleable__control:checked~label.sk-toggleable__label {background-color: #d4ebff;}#sk-container-id-2 input.sk-hidden--visually {border: 0;clip: rect(1px 1px 1px 1px);clip: rect(1px, 1px, 1px, 1px);height: 1px;margin: -1px;overflow: hidden;padding: 0;position: absolute;width: 1px;}#sk-container-id-2 div.sk-estimator {font-family: monospace;background-color: #f0f8ff;border: 1px dotted black;border-radius: 0.25em;box-sizing: border-box;margin-bottom: 0.5em;}#sk-container-id-2 div.sk-estimator:hover {background-color: #d4ebff;}#sk-container-id-2 div.sk-parallel-item::after {content: \"\";width: 100%;border-bottom: 1px solid gray;flex-grow: 1;}#sk-container-id-2 div.sk-label:hover label.sk-toggleable__label {background-color: #d4ebff;}#sk-container-id-2 div.sk-serial::before {content: \"\";position: absolute;border-left: 1px solid gray;box-sizing: border-box;top: 0;bottom: 0;left: 50%;z-index: 0;}#sk-container-id-2 div.sk-serial {display: flex;flex-direction: column;align-items: center;background-color: white;padding-right: 0.2em;padding-left: 0.2em;position: relative;}#sk-container-id-2 div.sk-item {position: relative;z-index: 1;}#sk-container-id-2 div.sk-parallel {display: flex;align-items: stretch;justify-content: center;background-color: white;position: relative;}#sk-container-id-2 div.sk-item::before, #sk-container-id-2 div.sk-parallel-item::before {content: \"\";position: absolute;border-left: 1px solid gray;box-sizing: border-box;top: 0;bottom: 0;left: 50%;z-index: -1;}#sk-container-id-2 div.sk-parallel-item {display: flex;flex-direction: column;z-index: 1;position: relative;background-color: white;}#sk-container-id-2 div.sk-parallel-item:first-child::after {align-self: flex-end;width: 50%;}#sk-container-id-2 div.sk-parallel-item:last-child::after {align-self: flex-start;width: 50%;}#sk-container-id-2 div.sk-parallel-item:only-child::after {width: 0;}#sk-container-id-2 div.sk-dashed-wrapped {border: 1px dashed gray;margin: 0 0.4em 0.5em 0.4em;box-sizing: border-box;padding-bottom: 0.4em;background-color: white;}#sk-container-id-2 div.sk-label label {font-family: monospace;font-weight: bold;display: inline-block;line-height: 1.2em;}#sk-container-id-2 div.sk-label-container {text-align: center;}#sk-container-id-2 div.sk-container {/* jupyter's `normalize.less` sets `[hidden] { display: none; }` but bootstrap.min.css set `[hidden] { display: none !important; }` so we also need the `!important` here to be able to override the default hidden behavior on the sphinx rendered scikit-learn.org. See: https://github.com/scikit-learn/scikit-learn/issues/21755 */display: inline-block !important;position: relative;}#sk-container-id-2 div.sk-text-repr-fallback {display: none;}</style><div id=\"sk-container-id-2\" class=\"sk-top-container\"><div class=\"sk-text-repr-fallback\"><pre>RandomForestClassifier(random_state=42)</pre><b>In a Jupyter environment, please rerun this cell to show the HTML representation or trust the notebook. <br />On GitHub, the HTML representation is unable to render, please try loading this page with nbviewer.org.</b></div><div class=\"sk-container\" hidden><div class=\"sk-item\"><div class=\"sk-estimator sk-toggleable\"><input class=\"sk-toggleable__control sk-hidden--visually\" id=\"sk-estimator-id-2\" type=\"checkbox\" checked><label for=\"sk-estimator-id-2\" class=\"sk-toggleable__label sk-toggleable__label-arrow\">RandomForestClassifier</label><div class=\"sk-toggleable__content\"><pre>RandomForestClassifier(random_state=42)</pre></div></div></div></div></div>"
      ],
      "text/plain": [
       "RandomForestClassifier(random_state=42)"
      ]
     },
     "execution_count": 5,
     "metadata": {},
     "output_type": "execute_result"
    }
   ],
   "source": [
    "#Classical RF for comparison\n",
    "pca = PCA(n_components=10)\n",
    "X_train_pca = pca.fit_transform(X_train_scaled)\n",
    "X_test_pca = pca.transform(X_test_scaled)\n",
    "\n",
    "clf_rf = RandomForestClassifier(n_estimators=100, random_state=42)\n",
    "clf_rf.fit(X_train_pca, y_train)"
   ]
  },
  {
   "cell_type": "code",
   "execution_count": 6,
   "id": "493b8506",
   "metadata": {
    "execution": {
     "iopub.execute_input": "2025-04-02T16:12:10.003615Z",
     "iopub.status.busy": "2025-04-02T16:12:10.003283Z",
     "iopub.status.idle": "2025-04-02T16:12:10.040387Z",
     "shell.execute_reply": "2025-04-02T16:12:10.039157Z"
    },
    "papermill": {
     "duration": 0.04301,
     "end_time": "2025-04-02T16:12:10.042292",
     "exception": false,
     "start_time": "2025-04-02T16:12:09.999282",
     "status": "completed"
    },
    "tags": []
   },
   "outputs": [
    {
     "name": "stdout",
     "output_type": "stream",
     "text": [
      "\n",
      "Quantum-Inspired RF Performance:\n",
      "              precision    recall  f1-score   support\n",
      "\n",
      "           0       0.93      0.99      0.96        71\n",
      "           1       0.97      0.88      0.93        43\n",
      "\n",
      "    accuracy                           0.95       114\n",
      "   macro avg       0.95      0.93      0.94       114\n",
      "weighted avg       0.95      0.95      0.95       114\n",
      "\n",
      "Accuracy: 94.74%\n",
      "\n",
      "Classical RF Performance:\n",
      "              precision    recall  f1-score   support\n",
      "\n",
      "           0       0.96      0.96      0.96        71\n",
      "           1       0.93      0.93      0.93        43\n",
      "\n",
      "    accuracy                           0.95       114\n",
      "   macro avg       0.94      0.94      0.94       114\n",
      "weighted avg       0.95      0.95      0.95       114\n",
      "\n",
      "Accuracy: 94.74%\n"
     ]
    }
   ],
   "source": [
    "# Evaluation\n",
    "y_pred_qrf = qrf.predict(X_test_kpca)\n",
    "y_pred_rf = clf_rf.predict(X_test_pca)\n",
    "\n",
    "print(\"\\nQuantum-Inspired RF Performance:\")\n",
    "print(classification_report(y_test, y_pred_qrf))\n",
    "print(f\"Accuracy: {accuracy_score(y_test, y_pred_qrf):.2%}\")\n",
    "\n",
    "print(\"\\nClassical RF Performance:\")\n",
    "print(classification_report(y_test, y_pred_rf))\n",
    "print(f\"Accuracy: {accuracy_score(y_test, y_pred_rf):.2%}\")"
   ]
  },
  {
   "cell_type": "code",
   "execution_count": 7,
   "id": "d7a796ac",
   "metadata": {
    "execution": {
     "iopub.execute_input": "2025-04-02T16:12:10.050204Z",
     "iopub.status.busy": "2025-04-02T16:12:10.049832Z",
     "iopub.status.idle": "2025-04-02T16:12:10.717353Z",
     "shell.execute_reply": "2025-04-02T16:12:10.716282Z"
    },
    "papermill": {
     "duration": 0.673362,
     "end_time": "2025-04-02T16:12:10.719052",
     "exception": false,
     "start_time": "2025-04-02T16:12:10.045690",
     "status": "completed"
    },
    "tags": []
   },
   "outputs": [
    {
     "data": {
      "image/png": "[encoded data removed]",
      "text/plain": [
       "<Figure size 1400x500 with 4 Axes>"
      ]
     },
     "metadata": {},
     "output_type": "display_data"
    }
   ],
   "source": [
    "# Visualization\n",
    "fig, ax = plt.subplots(1, 2, figsize=(14, 5))\n",
    "sns.heatmap(confusion_matrix(y_test, y_pred_rf), ax=ax[0], annot=True, fmt='d', cmap='Blues')\n",
    "ax[0].set_title(f'Classical RF\\nAccuracy: {accuracy_score(y_test, y_pred_rf):.2%}')\n",
    "\n",
    "sns.heatmap(confusion_matrix(y_test, y_pred_qrf), ax=ax[1], annot=True, fmt='d', cmap='Oranges')\n",
    "ax[1].set_title(f'Quantum-Inspired RF\\nAccuracy: {accuracy_score(y_test, y_pred_qrf):.2%}')\n",
    "\n",
    "plt.tight_layout()\n",
    "plt.show()"
   ]
  }
 ],
 "metadata": {
  "kaggle": {
   "accelerator": "none",
   "dataSources": [
    {
     "datasetId": 1829286,
     "sourceId": 2984728,
     "sourceType": "datasetVersion"
    },
    {
     "datasetId": 7032888,
     "sourceId": 11253961,
     "sourceType": "datasetVersion"
    }
   ],
   "dockerImageVersionId": 30918,
   "isGpuEnabled": false,
   "isInternetEnabled": false,
   "language": "python",
   "sourceType": "notebook"
  },
  "kernelspec": {
   "display_name": "Python 3",
   "language": "python",
   "name": "python3"
  },
  "language_info": {
   "codemirror_mode": {
    "name": "ipython",
    "version": 3
   },
   "file_extension": ".py",
   "mimetype": "text/x-python",
   "name": "python",
   "nbconvert_exporter": "python",
   "pygments_lexer": "ipython3",
   "version": "3.10.12"
  },
  "papermill": {
   "default_parameters": {},
   "duration": 23.315079,
   "end_time": "2025-04-02T16:12:11.342764",
   "environment_variables": {},
   "exception": null,
   "input_path": "__notebook__.ipynb",
   "output_path": "__notebook__.ipynb",
   "parameters": {},
   "start_time": "2025-04-02T16:11:48.027685",
   "version": "2.6.0"
  }
 },
 "nbformat": 4,
 "nbformat_minor": 5
}
